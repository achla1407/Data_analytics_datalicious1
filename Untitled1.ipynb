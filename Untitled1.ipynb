{
  "nbformat": 4,
  "nbformat_minor": 0,
  "metadata": {
    "colab": {
      "private_outputs": true,
      "provenance": [],
      "authorship_tag": "ABX9TyNVEJsKVKhvaDVLaxHXQRy0",
      "include_colab_link": true
    },
    "kernelspec": {
      "name": "python3",
      "display_name": "Python 3"
    },
    "language_info": {
      "name": "python"
    }
  },
  "cells": [
    {
      "cell_type": "markdown",
      "metadata": {
        "id": "view-in-github",
        "colab_type": "text"
      },
      "source": [
        "<a href=\"https://colab.research.google.com/github/achla1407/data_analytics_datalicious1/blob/main/Untitled1.ipynb\" target=\"_parent\"><img src=\"https://colab.research.google.com/assets/colab-badge.svg\" alt=\"Open In Colab\"/></a>"
      ]
    },
    {
      "cell_type": "code",
      "source": [
        "import pandas as pd\n",
        "data = pd.read_csv('/content/Prayagraj_Traffic_Data.csv')\n",
        "\n",
        "#total vehicle count for each day\n",
        "daily_vehicle_count = data.groupby('day_of_week')['vehicle_count'].sum().reset_index()\n",
        "\n",
        "daily_vehicle_count.columns = ['days', 'total_vehicle_count']\n",
        "\n",
        "print(\"Total Vehicle Count per Day:\")\n",
        "print(daily_vehicle_count)"
      ],
      "metadata": {
        "id": "YoUZaZntqDSI"
      },
      "execution_count": null,
      "outputs": []
    },
    {
      "cell_type": "code",
      "source": [
        "import pandas as pd\n",
        "data = pd.read_csv('/content/Prayagraj_Traffic_Data.csv')\n",
        "\n",
        "# Converting 'timestamp' column to datetime format\n",
        "data['timestamp'] = pd.to_datetime(data['timestamp'])\n",
        "\n",
        "# Extract the hour from 'time'\n",
        "data['hour'] = data['timestamp'].dt.hour\n",
        "\n",
        "# the average vehicle count\n",
        "average_vehicle_count_per_hour = data.groupby('hour')['vehicle_count'].mean().reset_index()\n",
        "\n",
        "average_vehicle_count_per_hour.columns = ['hour', 'average_vehicle_count']\n",
        "\n",
        "print(\"Average Vehicle Count per Hour:\")\n",
        "print(average_vehicle_count_per_hour)"
      ],
      "metadata": {
        "id": "p68mow8CsgJc"
      },
      "execution_count": null,
      "outputs": []
    },
    {
      "cell_type": "code",
      "source": [
        "import pandas as pd\n",
        "data = pd.read_csv('/content/Prayagraj_Traffic_Data.csv')\n",
        "\n",
        "# weather condition is 'Light Rain' or 'Heavy Rain'\n",
        "rainy_data = data[(data['weather_condition'] == 'Light Rain') | (data['weather_condition'] == 'Heavy Rain') ]\n",
        "\n",
        "print(\"Records for Rainy Weather Conditions:\")\n",
        "print(rainy_data)"
      ],
      "metadata": {
        "id": "xazvtmsiuB68"
      },
      "execution_count": null,
      "outputs": []
    },
    {
      "cell_type": "code",
      "source": [],
      "metadata": {
        "id": "ebyeLbvRw3qo"
      },
      "execution_count": null,
      "outputs": []
    },
    {
      "cell_type": "code",
      "source": [
        "import pandas as pd\n",
        "data = pd.read_csv('/content/Prayagraj_Traffic_Data.csv')\n",
        "\n",
        "Sat_Sun = data[(data['day_of_week'] == 'Saturday') | (data['day_of_week'] == 'Sunday') ]\n",
        "\n",
        "print(\"Records for Saturday or Sunday:\")\n",
        "print(Sat_Sun)"
      ],
      "metadata": {
        "id": "orH1eSp6vYhZ"
      },
      "execution_count": null,
      "outputs": []
    },
    {
      "cell_type": "code",
      "source": [
        "import pandas as pd\n",
        "data = pd.read_csv('/content/Prayagraj_Traffic_Data.csv')\n",
        "\n",
        "#calculating the average of 'average_speed'\n",
        "average_speed_per_intersection = data.groupby('intersection_name')['average_speed'].mean().reset_index()\n",
        "\n",
        "average_speed_per_intersection.columns = ['intersection_name', 'average_speed']\n",
        "\n",
        "print(\"Average Speed per Intersection:\")\n",
        "print(average_speed_per_intersection)"
      ],
      "metadata": {
        "id": "H77H4RZFxVVX"
      },
      "execution_count": null,
      "outputs": []
    },
    {
      "cell_type": "code",
      "source": [
        "import pandas as pd\n",
        "data = pd.read_csv('/content/Prayagraj_Traffic_Data.csv')\n",
        "\n",
        "#calculating the average of 'average_speed'\n",
        "average_vehicle_count_per_intersection = data.groupby('intersection_name')['vehicle_count'].mean().reset_index()\n",
        "\n",
        "highest_average = average_vehicle_count_per_intersection.max().reset_index()\n",
        "\n",
        "print(\"The highest average vehicle_count is:\")\n",
        "print(highest_average)"
      ],
      "metadata": {
        "id": "5XCVzrqm1lGB"
      },
      "execution_count": null,
      "outputs": []
    },
    {
      "cell_type": "code",
      "source": [],
      "metadata": {
        "id": "Xkh2gdFH2xPS"
      },
      "execution_count": null,
      "outputs": []
    }
  ]
}